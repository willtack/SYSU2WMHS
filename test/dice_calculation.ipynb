{
 "cells": [
  {
   "cell_type": "markdown",
   "id": "6396fced-555f-4778-9a07-1160e4f1df96",
   "metadata": {},
   "source": [
    " ## Calculate overlap\n",
    "Generate the DICE coefficient for each segmentation using the *EDIT1 file as reference. "
   ]
  },
  {
   "cell_type": "code",
   "execution_count": 2,
   "id": "5fdef9a9-8d14-48ee-bad8-193b851f04f5",
   "metadata": {},
   "outputs": [],
   "source": [
    "# Import packages\n",
    "import ants\n",
    "import numpy as np\n",
    "import pandas as pd\n",
    "from pathlib import Path\n",
    "import logging\n",
    "import os\n",
    "import subprocess\n",
    "\n",
    "PATH_TO_DATA = Path('test-data')"
   ]
  },
  {
   "cell_type": "code",
   "execution_count": 3,
   "id": "5cfcc9b3-1856-49bb-ae3a-fbd47858aa59",
   "metadata": {},
   "outputs": [],
   "source": [
    "# Instantiate a logger\n",
    "logging.basicConfig(level=logging.INFO, format='%(asctime)s %(levelname)s %(message)s')\n",
    "log = logging.getLogger('root')"
   ]
  },
  {
   "cell_type": "code",
   "execution_count": 43,
   "id": "1d8dea28-1fdc-458b-8255-ee989ef26729",
   "metadata": {},
   "outputs": [],
   "source": [
    "def refine_list(lst):\n",
    "    result_list = str(lst).split(',')\n",
    "    result_list[-1] = result_list[-1].replace(\"\\\\n\", \"\").replace(\"'\", \"\")\n",
    "    result_list = [float(result_list[4]), float(result_list[5])]\n",
    "#     result_list = [float(e) for e in result_list]\n",
    "    \n",
    "    return(result_list)\n",
    "    "
   ]
  },
  {
   "cell_type": "markdown",
   "id": "8be2ee64-071b-4c58-b629-c3b1a0d8093e",
   "metadata": {},
   "source": [
    "Before running the next step, I reoriented the reference segmentations using `organizeAndReorient.sh`."
   ]
  },
  {
   "cell_type": "code",
   "execution_count": 52,
   "id": "2a878264-775c-42dd-8640-3d074ce68bd6",
   "metadata": {
    "tags": []
   },
   "outputs": [
    {
     "name": "stderr",
     "output_type": "stream",
     "text": [
      "2021-09-22 12:29:11,788 INFO Processing subject test-data/027_S_6034\n",
      "2021-09-22 12:29:11,789 INFO Processing session test-data/027_S_6034/2019-07-24\n",
      "2021-09-22 12:29:12,474 INFO 0\n",
      "2021-09-22 12:29:13,401 INFO [0.433333, 0.276596] ; [0.464, 0.302083]\n",
      "2021-09-22 12:29:14,109 INFO Processing subject test-data/168_S_6426\n",
      "2021-09-22 12:29:14,110 INFO Processing session test-data/168_S_6426/2018-06-29\n",
      "2021-09-22 12:29:14,706 INFO 0\n",
      "2021-09-22 12:29:15,542 INFO [0.7808, 0.640421] ; [0.797701, 0.66348]\n",
      "2021-09-22 12:29:16,188 INFO Processing subject test-data/027_S_5277\n",
      "2021-09-22 12:29:16,188 INFO Processing session test-data/027_S_5277/2017-11-30\n",
      "2021-09-22 12:29:16,848 INFO 0\n",
      "2021-09-22 12:29:17,801 INFO [0.435734, 0.278555] ; [0.451092, 0.291232]\n",
      "2021-09-22 12:29:18,516 INFO Processing subject test-data/114_S_6347\n",
      "2021-09-22 12:29:18,517 INFO Processing session test-data/114_S_6347/2018-05-26\n",
      "2021-09-22 12:29:19,101 INFO 0\n",
      "2021-09-22 12:29:19,917 INFO [0.874533, 0.77704] ; [0.869013, 0.768368]\n",
      "2021-09-22 12:29:20,544 INFO Processing subject test-data/011_S_6303\n",
      "2021-09-22 12:29:20,545 INFO Processing session test-data/011_S_6303/2018-04-12\n",
      "2021-09-22 12:29:21,143 INFO 0\n",
      "2021-09-22 12:29:21,971 INFO [0.778408, 0.637208] ; [0.758911, 0.611488]\n",
      "2021-09-22 12:29:22,630 INFO Processing subject test-data/068_S_4067\n",
      "2021-09-22 12:29:22,631 INFO Processing session test-data/068_S_4067/2017-08-16\n",
      "2021-09-22 12:29:23,228 INFO 0\n",
      "2021-09-22 12:29:24,045 INFO [0.195149, 0.108125] ; [0.869905, 0.769762]\n",
      "2021-09-22 12:29:24,682 INFO Processing subject test-data/016_S_6789\n",
      "2021-09-22 12:29:24,683 INFO Processing session test-data/016_S_6789/2019-07-29\n",
      "2021-09-22 12:29:25,284 INFO 0\n",
      "2021-09-22 12:29:26,113 INFO [0.813328, 0.685386] ; [0.829801, 0.709112]\n",
      "2021-09-22 12:29:26,741 INFO Processing subject test-data/135_S_6284\n",
      "2021-09-22 12:29:26,742 INFO Processing session test-data/135_S_6284/2018-05-02\n",
      "2021-09-22 12:29:27,404 INFO 0\n",
      "2021-09-22 12:29:28,323 INFO [0.885155, 0.793972] ; [0.885004, 0.793729]\n",
      "2021-09-22 12:29:29,032 INFO Processing subject test-data/130_S_6047\n",
      "2021-09-22 12:29:29,032 INFO Processing session test-data/130_S_6047/2017-07-27\n",
      "2021-09-22 12:29:29,615 INFO 0\n",
      "2021-09-22 12:29:30,463 INFO [0.612613, 0.441558] ; [0.604167, 0.432836]\n",
      "2021-09-22 12:29:31,153 INFO Processing subject test-data/126_S_4891\n",
      "2021-09-22 12:29:31,154 INFO Processing session test-data/126_S_4891/2018-07-27\n",
      "2021-09-22 12:29:31,829 INFO 0\n",
      "2021-09-22 12:29:32,765 INFO [0.750932, 0.601194] ; [0.668066, 0.501576]\n",
      "2021-09-22 12:29:33,485 INFO Processing subject test-data/036_S_6231\n",
      "2021-09-22 12:29:33,486 INFO Processing session test-data/036_S_6231/2018-03-05\n",
      "2021-09-22 12:29:34,079 INFO 0\n",
      "2021-09-22 12:29:34,923 INFO [0.838158, 0.721405] ; [0.833361, 0.714326]\n",
      "2021-09-22 12:29:35,573 INFO Processing subject test-data/301_S_6592\n",
      "2021-09-22 12:29:35,574 INFO Processing session test-data/301_S_6592/2018-10-23\n",
      "2021-09-22 12:29:36,180 INFO 0\n",
      "2021-09-22 12:29:37,009 INFO [0.756171, 0.607938] ; [0.755675, 0.607297]\n",
      "2021-09-22 12:29:37,656 INFO Processing subject test-data/135_S_4489\n",
      "2021-09-22 12:29:37,657 INFO Processing session test-data/135_S_4489/2018-06-01\n",
      "2021-09-22 12:29:38,328 INFO 0\n",
      "2021-09-22 12:29:39,261 INFO [0.700011, 0.538475] ; [0.63664, 0.466964]\n",
      "2021-09-22 12:29:39,980 INFO Processing subject test-data/029_S_4290\n",
      "2021-09-22 12:29:39,981 INFO Processing session test-data/029_S_4290/2018-06-12\n",
      "2021-09-22 12:29:40,652 INFO 0\n",
      "2021-09-22 12:29:41,595 INFO [0.929586, 0.868437] ; [0.931359, 0.871537]\n",
      "2021-09-22 12:29:42,330 INFO Processing subject test-data/127_S_4197\n",
      "2021-09-22 12:29:42,331 INFO Processing session test-data/127_S_4197/2017-09-15\n",
      "2021-09-22 12:29:43,000 INFO 0\n",
      "2021-09-22 12:29:43,943 INFO [0.244306, 0.139151] ; [0.801478, 0.668722]\n",
      "2021-09-22 12:29:44,665 INFO Processing subject test-data/067_S_6529\n",
      "2021-09-22 12:29:44,665 INFO Processing session test-data/067_S_6529/2018-08-14\n",
      "2021-09-22 12:29:45,256 INFO 0\n",
      "2021-09-22 12:29:46,086 INFO [0.441088, 0.282946] ; [0.388848, 0.241348]\n",
      "2021-09-22 12:29:46,728 INFO Processing subject test-data/037_S_0377\n",
      "2021-09-22 12:29:46,729 INFO Processing session test-data/037_S_0377/2017-04-07\n",
      "2021-09-22 12:29:47,322 INFO 0\n",
      "2021-09-22 12:29:48,164 INFO [0.0, 0.0] ; [0.83503, 0.716783]\n",
      "2021-09-22 12:29:48,803 INFO Processing subject test-data/094_S_4162\n",
      "2021-09-22 12:29:48,803 INFO Processing session test-data/094_S_4162/2015-10-06\n",
      "2021-09-22 12:29:48,963 INFO 0\n",
      "2021-09-22 12:29:49,221 INFO [0.634082, 0.464217] ; [0.682156, 0.51763]\n",
      "2021-09-22 12:29:49,361 INFO Processing subject test-data/941_S_6345\n",
      "2021-09-22 12:29:49,362 INFO Processing session test-data/941_S_6345/2018-05-10\n",
      "2021-09-22 12:29:49,956 INFO 0\n",
      "2021-09-22 12:29:50,793 INFO [0.436964, 0.279561] ; [0.544888, 0.374465]\n",
      "2021-09-22 12:29:51,440 INFO Processing subject test-data/098_S_0896\n",
      "2021-09-22 12:29:51,440 INFO Processing session test-data/098_S_0896/2018-03-15\n",
      "2021-09-22 12:29:52,131 INFO 0\n",
      "2021-09-22 12:29:53,088 INFO [0.67743, 0.512207] ; [0.740252, 0.58762]\n",
      "2021-09-22 12:29:53,826 INFO DONE\n"
     ]
    }
   ],
   "source": [
    "# Run the DICE calculations\n",
    "df_list = [] # each output is a pandas DataFrame that we'll combine at the end based on this list\n",
    "for subj in PATH_TO_DATA.glob('*S*'): # e.g., 011_S_6303\n",
    "    log.info('Processing subject %s', str(subj))\n",
    "    for ses in subj.glob('20*'): # 2017, 2018, etc.\n",
    "        log.info('Processing session %s', str(ses))\n",
    "        \n",
    "        new_seg_file = str(list(ses.glob(\"*WMH_seg*\"))[0])\n",
    "        new_10_seg_file = str(list(ses.glob(\"*WMH_10x_seg*\"))[0])\n",
    "        baseline_seg_file = str(list(ses.glob(\"*reorient_EDIT1*\"))[0])\n",
    "                \n",
    "        # copy header from new seg to old seg (only have to do once) to match origins\n",
    "        cmd = 'c3d {0} {1} -copy-transform -o {1}'.format(new_seg_file, baseline_seg_file)\n",
    "        log.info(os.system(cmd))\n",
    "        \n",
    "        # calculate DICE with c3d\n",
    "        cmd2=\"c3d {} {} -overlap 1\".format(new_seg_file, baseline_seg_file)\n",
    "        result = refine_list(subprocess.check_output(cmd2, shell=True))\n",
    "        cmd3=\"c3d {} {} -overlap 1\".format(new_10_seg_file, baseline_seg_file)\n",
    "        result10 = refine_list(subprocess.check_output(cmd3, shell=True))\n",
    "        log.info(\"{} ; {}\".format(result, result10))\n",
    "\n",
    "        # Do the ANTscalculation for both segmentations\n",
    "        new_seg = ants.image_read(new_seg_file)  # read the data\n",
    "        new_10_seg = ants.image_read(new_10_seg_file)\n",
    "        baseline_seg = ants.image_read(baseline_seg_file)\n",
    "        \n",
    "        std_comp = ants.label_overlap_measures(baseline_seg, new_seg) # run the calculation\n",
    "        x10_comp = ants.label_overlap_measures(baseline_seg, new_10_seg)\n",
    "        \n",
    "        # Edit the dataframe a little\n",
    "        std_comp['c3dDice'] = result[0] # Dice\n",
    "        x10_comp['c3dDice'] = result10[0] \n",
    "        std_comp['c3dJacob'] = result[1] # Jacobian\n",
    "        x10_comp['c3dJacob'] = result10[1]\n",
    "        std_comp.insert(0, 'SubjectID', subj.name) # insert subject name in first position\n",
    "        x10_comp.insert(0, 'SubjectID', subj.name)\n",
    "        std_comp.insert(1, 'Type', 'normal') # specify which image is which\n",
    "        x10_comp.insert(1, 'Type', 'scaled10x')\n",
    "        std_comp=std_comp.iloc[:1] # just get the first row\n",
    "        x10_comp=x10_comp.iloc[:1]\n",
    "        \n",
    "        df_list.append(std_comp) # add to list for concatenation later\n",
    "        df_list.append(x10_comp)    \n",
    "        \n",
    "df = pd.concat(df_list)\n",
    "df = df.reset_index(drop=True)\n",
    "df = df.drop('Label',1) # drop superfluous column\n",
    "log.info('DONE')"
   ]
  },
  {
   "cell_type": "code",
   "execution_count": 56,
   "id": "7d9970ad-5a69-4b12-8be0-27ebc5eed1c6",
   "metadata": {},
   "outputs": [],
   "source": [
    "df.to_csv('overlap_data.csv',index=False)"
   ]
  }
 ],
 "metadata": {
  "kernelspec": {
   "display_name": "Python 3",
   "language": "python",
   "name": "python3"
  },
  "language_info": {
   "codemirror_mode": {
    "name": "ipython",
    "version": 3
   },
   "file_extension": ".py",
   "mimetype": "text/x-python",
   "name": "python",
   "nbconvert_exporter": "python",
   "pygments_lexer": "ipython3",
   "version": "3.8.8"
  }
 },
 "nbformat": 4,
 "nbformat_minor": 5
}
