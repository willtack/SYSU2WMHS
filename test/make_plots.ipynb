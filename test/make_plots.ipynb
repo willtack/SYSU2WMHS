{
 "cells": [
  {
   "cell_type": "code",
   "execution_count": 2,
   "id": "2dd200be-f7e5-4b97-b074-3afdf3ffc413",
   "metadata": {},
   "outputs": [],
   "source": [
    "import matplotlib.pyplot as plt\n",
    "import numpy as np\n",
    "import pandas as pd\n",
    "import seaborn as sns"
   ]
  },
  {
   "cell_type": "code",
   "execution_count": 31,
   "id": "3b14ad52-5aa6-47b6-b123-1d24ba05f0ec",
   "metadata": {},
   "outputs": [
    {
     "data": {
      "text/html": [
       "<div>\n",
       "<style scoped>\n",
       "    .dataframe tbody tr th:only-of-type {\n",
       "        vertical-align: middle;\n",
       "    }\n",
       "\n",
       "    .dataframe tbody tr th {\n",
       "        vertical-align: top;\n",
       "    }\n",
       "\n",
       "    .dataframe thead th {\n",
       "        text-align: right;\n",
       "    }\n",
       "</style>\n",
       "<table border=\"1\" class=\"dataframe\">\n",
       "  <thead>\n",
       "    <tr style=\"text-align: right;\">\n",
       "      <th></th>\n",
       "      <th>SubjectID</th>\n",
       "      <th>Type</th>\n",
       "      <th>TotalOrTargetOverlap</th>\n",
       "      <th>UnionOverlap</th>\n",
       "      <th>MeanOverlap</th>\n",
       "      <th>VolumeSimilarity</th>\n",
       "      <th>FalseNegativeError</th>\n",
       "      <th>FalsePositiveError</th>\n",
       "      <th>c3dDice</th>\n",
       "      <th>c3dJacob</th>\n",
       "      <th>volume</th>\n",
       "    </tr>\n",
       "  </thead>\n",
       "  <tbody>\n",
       "    <tr>\n",
       "      <th>0</th>\n",
       "      <td>027_S_6034</td>\n",
       "      <td>normal</td>\n",
       "      <td>0.286107</td>\n",
       "      <td>0.276596</td>\n",
       "      <td>0.433333</td>\n",
       "      <td>-1.029167</td>\n",
       "      <td>0.713893</td>\n",
       "      <td>0.107296</td>\n",
       "      <td>0.433333</td>\n",
       "      <td>0.276596</td>\n",
       "      <td>872.403320</td>\n",
       "    </tr>\n",
       "    <tr>\n",
       "      <th>1</th>\n",
       "      <td>027_S_6034</td>\n",
       "      <td>scaled10x</td>\n",
       "      <td>0.316199</td>\n",
       "      <td>0.302083</td>\n",
       "      <td>0.464000</td>\n",
       "      <td>-0.934857</td>\n",
       "      <td>0.683801</td>\n",
       "      <td>0.128755</td>\n",
       "      <td>0.464000</td>\n",
       "      <td>0.302083</td>\n",
       "      <td>770.402954</td>\n",
       "    </tr>\n",
       "    <tr>\n",
       "      <th>2</th>\n",
       "      <td>168_S_6426</td>\n",
       "      <td>normal</td>\n",
       "      <td>0.837660</td>\n",
       "      <td>0.640421</td>\n",
       "      <td>0.780800</td>\n",
       "      <td>0.135757</td>\n",
       "      <td>0.162340</td>\n",
       "      <td>0.268830</td>\n",
       "      <td>0.780800</td>\n",
       "      <td>0.640421</td>\n",
       "      <td>8552.418945</td>\n",
       "    </tr>\n",
       "    <tr>\n",
       "      <th>3</th>\n",
       "      <td>168_S_6426</td>\n",
       "      <td>scaled10x</td>\n",
       "      <td>0.833356</td>\n",
       "      <td>0.663480</td>\n",
       "      <td>0.797701</td>\n",
       "      <td>0.085568</td>\n",
       "      <td>0.166644</td>\n",
       "      <td>0.235028</td>\n",
       "      <td>0.797701</td>\n",
       "      <td>0.663480</td>\n",
       "      <td>8994.019531</td>\n",
       "    </tr>\n",
       "    <tr>\n",
       "      <th>4</th>\n",
       "      <td>027_S_5277</td>\n",
       "      <td>normal</td>\n",
       "      <td>0.292355</td>\n",
       "      <td>0.278555</td>\n",
       "      <td>0.435734</td>\n",
       "      <td>-0.980857</td>\n",
       "      <td>0.707645</td>\n",
       "      <td>0.144902</td>\n",
       "      <td>0.435734</td>\n",
       "      <td>0.278555</td>\n",
       "      <td>1961.994995</td>\n",
       "    </tr>\n",
       "  </tbody>\n",
       "</table>\n",
       "</div>"
      ],
      "text/plain": [
       "    SubjectID       Type  TotalOrTargetOverlap  UnionOverlap  MeanOverlap  \\\n",
       "0  027_S_6034     normal              0.286107      0.276596     0.433333   \n",
       "1  027_S_6034  scaled10x              0.316199      0.302083     0.464000   \n",
       "2  168_S_6426     normal              0.837660      0.640421     0.780800   \n",
       "3  168_S_6426  scaled10x              0.833356      0.663480     0.797701   \n",
       "4  027_S_5277     normal              0.292355      0.278555     0.435734   \n",
       "\n",
       "   VolumeSimilarity  FalseNegativeError  FalsePositiveError   c3dDice  \\\n",
       "0         -1.029167            0.713893            0.107296  0.433333   \n",
       "1         -0.934857            0.683801            0.128755  0.464000   \n",
       "2          0.135757            0.162340            0.268830  0.780800   \n",
       "3          0.085568            0.166644            0.235028  0.797701   \n",
       "4         -0.980857            0.707645            0.144902  0.435734   \n",
       "\n",
       "   c3dJacob       volume  \n",
       "0  0.276596   872.403320  \n",
       "1  0.302083   770.402954  \n",
       "2  0.640421  8552.418945  \n",
       "3  0.663480  8994.019531  \n",
       "4  0.278555  1961.994995  "
      ]
     },
     "execution_count": 31,
     "metadata": {},
     "output_type": "execute_result"
    }
   ],
   "source": [
    "data = pd.read_csv('overlap_data.csv')\n",
    "data.head()"
   ]
  },
  {
   "cell_type": "code",
   "execution_count": 5,
   "id": "50871a5a-7641-4527-984b-660cfb58f855",
   "metadata": {},
   "outputs": [],
   "source": [
    "# for now, remove this outlier affecting the scale of the figure\n",
    "data = data[data.SubjectID != '094_S_4162']"
   ]
  },
  {
   "cell_type": "code",
   "execution_count": 32,
   "id": "d2495eb6-c0ed-48d4-9f75-44e8439ce807",
   "metadata": {},
   "outputs": [
    {
     "data": {
      "image/png": "[encoded data removed]",
      "text/plain": [
       "<Figure size 432x288 with 1 Axes>"
      ]
     },
     "metadata": {},
     "output_type": "display_data"
    }
   ],
   "source": [
    "sns.set_style(\"whitegrid\")\n",
    "ax = sns.scatterplot(data=data,x=\"volume\",y=\"c3dDice\", hue=\"Type\")\n",
    "ax.set(ylabel=\"DICE overlap\", xlabel=\"Volume (mm^3)\", xlim=[0,40000])\n",
    "ax.set_yscale('log')\n"
   ]
  },
  {
   "cell_type": "code",
   "execution_count": null,
   "id": "74b35c94-1a15-4832-9186-2f8207084d97",
   "metadata": {},
   "outputs": [],
   "source": []
  }
 ],
 "metadata": {
  "kernelspec": {
   "display_name": "Python 3",
   "language": "python",
   "name": "python3"
  },
  "language_info": {
   "codemirror_mode": {
    "name": "ipython",
    "version": 3
   },
   "file_extension": ".py",
   "mimetype": "text/x-python",
   "name": "python",
   "nbconvert_exporter": "python",
   "pygments_lexer": "ipython3",
   "version": "3.8.8"
  }
 },
 "nbformat": 4,
 "nbformat_minor": 5
}
