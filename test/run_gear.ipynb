{
 "cells": [
  {
   "cell_type": "code",
   "execution_count": 12,
   "id": "7b8613ec-debc-4059-91ae-03455543a781",
   "metadata": {},
   "outputs": [
    {
     "data": {
      "text/plain": [
       "'2021-9-20_16:32'"
      ]
     },
     "execution_count": 12,
     "metadata": {},
     "output_type": "execute_result"
    }
   ],
   "source": [
    "import flywheel\n",
    "import datetime\n",
    "import logging\n",
    "\n",
    "fw = flywheel.Client()\n",
    "project_id = '6009d38842d76c8da2cca869'\n",
    "gear = fw.lookup('gears/wmhssysu2debug')\n",
    "date = datetime.datetime.now()\n",
    "date_str = \"{}-{}-{}_{}:{}\".format(date.year, date.month, date.day, date.hour, date.minute)\n",
    "date_str"
   ]
  },
  {
   "cell_type": "code",
   "execution_count": 13,
   "id": "7b662edb-2a35-45b1-9f01-d061f783faa3",
   "metadata": {},
   "outputs": [],
   "source": [
    "# Instantiate a logger\n",
    "logging.basicConfig(level=logging.INFO, format='%(asctime)s %(levelname)s %(message)s')\n",
    "log = logging.getLogger('root')"
   ]
  },
  {
   "cell_type": "code",
   "execution_count": 14,
   "id": "ce619c83-fa52-4f27-b728-31b49b0ded61",
   "metadata": {},
   "outputs": [
    {
     "data": {
      "text/plain": [
       "20"
      ]
     },
     "execution_count": 14,
     "metadata": {},
     "output_type": "execute_result"
    }
   ],
   "source": [
    "# There are some older sessions in this project, but we want the 20 we just uploaded (conveniently, all the names begin with 20)\n",
    "sessions = [fw.get_session(x.id) for x in fw.get_project_sessions(project_id) if x.label.startswith('20')]\n",
    "len(sessions)"
   ]
  },
  {
   "cell_type": "code",
   "execution_count": 15,
   "id": "f35fab87-67f6-4d6e-9cf1-d0cbc43c7b49",
   "metadata": {},
   "outputs": [],
   "source": [
    "for session in sessions:\n",
    "    \n",
    "    t1_img = None\n",
    "    flair_img = None\n",
    "    flair_10x_img = None\n",
    "    \n",
    "    for acq in session.acquisitions():\n",
    "        # determine the input files\n",
    "        for f in acq.files:\n",
    "            if 'reorient_T1w' in f.name:\n",
    "                t1_img = f\n",
    "            elif 'reorient_flair' in f.name:\n",
    "                flair_img = f\n",
    "            elif 'reorient_10_flair' in f.name:\n",
    "                flair_10x_img = f\n",
    "            else:\n",
    "                continue\n",
    "                \n",
    "        if t1_img and flair_img:\n",
    "            # Run the gear with the normal FLAIR\n",
    "            inputs = {'FLAIR': flair_img, 'T1': t1_img}\n",
    "            label = 'sysu2_{}_test_WT'.format(date_str)\n",
    "            config = {}\n",
    "            analysis_id = gear.run(analysis_label=label, config=config, inputs=inputs, destination=session)\n",
    "            log.info(\"Running {} with {} and {}.\".format(label, flair_img, t1_img))\n",
    "\n",
    "        if t1_img and flair_10x_img:\n",
    "            # Run the gear with the 10x FLAIR\n",
    "            inputs = {'FLAIR': flair_10x_img, 'T1': t1_img}\n",
    "            label = 'sysu2_{}_10x_test_WT'.format(date_str)\n",
    "            config = {}\n",
    "            analysis_id = gear.run(analysis_label=label, config=config, inputs=inputs, destination=session)\n",
    "            log.info(\"Running {} with {} and {}.\".format(label, flair_10x_img, t1_img))\n"
   ]
  },
  {
   "cell_type": "code",
   "execution_count": null,
   "id": "bd805a56-c496-4242-897d-b66e05db62ca",
   "metadata": {},
   "outputs": [],
   "source": []
  }
 ],
 "metadata": {
  "kernelspec": {
   "display_name": "Python 3",
   "language": "python",
   "name": "python3"
  },
  "language_info": {
   "codemirror_mode": {
    "name": "ipython",
    "version": 3
   },
   "file_extension": ".py",
   "mimetype": "text/x-python",
   "name": "python",
   "nbconvert_exporter": "python",
   "pygments_lexer": "ipython3",
   "version": "3.9.4"
  }
 },
 "nbformat": 4,
 "nbformat_minor": 5
}
