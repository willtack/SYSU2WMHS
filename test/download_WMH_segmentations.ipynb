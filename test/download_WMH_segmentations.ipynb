{
 "cells": [
  {
   "cell_type": "code",
   "execution_count": 4,
   "id": "2d65ca78-e225-47b2-96a8-e062c5e7119f",
   "metadata": {},
   "outputs": [],
   "source": [
    "import flywheel\n",
    "import os\n",
    "\n",
    "fw = flywheel.Client()\n",
    "project_id = '6009d38842d76c8da2cca869'\n",
    "gear_name = 'wmhssysu2debug'\n",
    "local_dir = '/Users/will/Repositories/sysu/data'\n",
    "os.makedirs(local_dir, exist_ok=True)"
   ]
  },
  {
   "cell_type": "code",
   "execution_count": 5,
   "id": "f98b0b8d-e6c1-42c9-b74d-c52a30811783",
   "metadata": {},
   "outputs": [
    {
     "name": "stderr",
     "output_type": "stream",
     "text": [
      "WARNING:Flywheel:Use \"pip install flywheel-sdk~=14.6.5\" to install a compatible version for this server\n"
     ]
    }
   ],
   "source": [
    "# Get all the sessions within the collection.\n",
    "sessions = [fw.get_session(x.id) for x in fw.get_project_sessions(project_id) if x.label.startswith('20')]"
   ]
  },
  {
   "cell_type": "code",
   "execution_count": 7,
   "id": "bb4ffb46-6efe-4d2e-8e4b-8c062c061b3a",
   "metadata": {},
   "outputs": [
    {
     "name": "stdout",
     "output_type": "stream",
     "text": [
      "sub-027_S_6034_ses-2019-07-24_WMH_seg.nii.gz\n",
      "sub-027_S_6034_ses-2019-07-24_WMH_10x_seg.nii.gz\n",
      "sub-168_S_6426_ses-2018-06-29_WMH_seg.nii.gz\n",
      "sub-168_S_6426_ses-2018-06-29_WMH_10x_seg.nii.gz\n",
      "sub-027_S_5277_ses-2017-11-30_WMH_seg.nii.gz\n",
      "sub-027_S_5277_ses-2017-11-30_WMH_10x_seg.nii.gz\n",
      "sub-114_S_6347_ses-2018-05-26_WMH_seg.nii.gz\n",
      "sub-114_S_6347_ses-2018-05-26_WMH_10x_seg.nii.gz\n",
      "sub-011_S_6303_ses-2018-04-12_WMH_seg.nii.gz\n",
      "sub-011_S_6303_ses-2018-04-12_WMH_10x_seg.nii.gz\n",
      "sub-068_S_4067_ses-2017-08-16_WMH_seg.nii.gz\n",
      "sub-068_S_4067_ses-2017-08-16_WMH_10x_seg.nii.gz\n",
      "sub-016_S_6789_ses-2019-07-29_WMH_seg.nii.gz\n",
      "sub-016_S_6789_ses-2019-07-29_WMH_10x_seg.nii.gz\n",
      "sub-135_S_6284_ses-2018-05-02_WMH_seg.nii.gz\n",
      "sub-135_S_6284_ses-2018-05-02_WMH_10x_seg.nii.gz\n",
      "sub-130_S_6047_ses-2017-07-27_WMH_seg.nii.gz\n",
      "sub-130_S_6047_ses-2017-07-27_WMH_10x_seg.nii.gz\n",
      "sub-126_S_4891_ses-2018-07-27_WMH_seg.nii.gz\n",
      "sub-126_S_4891_ses-2018-07-27_WMH_10x_seg.nii.gz\n",
      "sub-036_S_6231_ses-2018-03-05_WMH_seg.nii.gz\n",
      "sub-036_S_6231_ses-2018-03-05_WMH_10x_seg.nii.gz\n",
      "sub-301_S_6592_ses-2018-10-23_WMH_seg.nii.gz\n",
      "sub-301_S_6592_ses-2018-10-23_WMH_10x_seg.nii.gz\n",
      "sub-135_S_4489_ses-2018-06-01_WMH_seg.nii.gz\n",
      "sub-135_S_4489_ses-2018-06-01_WMH_10x_seg.nii.gz\n",
      "sub-029_S_4290_ses-2018-06-12_WMH_seg.nii.gz\n",
      "sub-029_S_4290_ses-2018-06-12_WMH_10x_seg.nii.gz\n",
      "sub-127_S_4197_ses-2017-09-15_WMH_seg.nii.gz\n",
      "sub-127_S_4197_ses-2017-09-15_WMH_10x_seg.nii.gz\n",
      "sub-067_S_6529_ses-2018-08-14_WMH_seg.nii.gz\n",
      "sub-067_S_6529_ses-2018-08-14_WMH_10x_seg.nii.gz\n",
      "sub-037_S_0377_ses-2017-04-07_WMH_seg.nii.gz\n",
      "sub-037_S_0377_ses-2017-04-07_WMH_10x_seg.nii.gz\n",
      "sub-094_S_4162_ses-2015-10-06_WMH_seg.nii.gz\n",
      "sub-094_S_4162_ses-2015-10-06_WMH_10x_seg.nii.gz\n",
      "sub-941_S_6345_ses-2018-05-10_WMH_seg.nii.gz\n",
      "sub-941_S_6345_ses-2018-05-10_WMH_10x_seg.nii.gz\n",
      "sub-098_S_0896_ses-2018-03-15_WMH_seg.nii.gz\n",
      "sub-098_S_0896_ses-2018-03-15_WMH_10x_seg.nii.gz\n"
     ]
    }
   ],
   "source": [
    "for session in sessions:\n",
    "    sub_label = fw.get(session.parents['subject']).label\n",
    "    ses_dir = os.path.join(local_dir, sub_label, session.label)\n",
    "    os.makedirs(ses_dir, exist_ok=True)\n",
    "    \n",
    "    for analysis in session.analyses:\n",
    "        if analysis.label.startswith('sysu2') and analysis.job['state']=='complete' and analysis.files:\n",
    "            segmentation = [f for f in analysis.files if 'FLAIR' in f.name]\n",
    "            \n",
    "            try:\n",
    "                if '10x' in analysis.label:\n",
    "                    new_fname = \"sub-{}_ses-{}_WMH_10x_seg.nii.gz\".format(sub_label, session.label)\n",
    "                    print(new_fname)\n",
    "                else:\n",
    "                    new_fname = \"sub-{}_ses-{}_WMH_seg.nii.gz\".format(sub_label, session.label)\n",
    "                    print(new_fname)\n",
    "                analysis.download_file(segmentation[0].name, os.path.join(ses_dir, new_fname))\n",
    "                \n",
    "            except IndexError as e:\n",
    "                print(session.label)\n"
   ]
  },
  {
   "cell_type": "code",
   "execution_count": null,
   "id": "f1646cb9-da37-4f1c-8f2f-c30d166faabb",
   "metadata": {},
   "outputs": [],
   "source": []
  }
 ],
 "metadata": {
  "kernelspec": {
   "display_name": "Python 3",
   "language": "python",
   "name": "python3"
  },
  "language_info": {
   "codemirror_mode": {
    "name": "ipython",
    "version": 3
   },
   "file_extension": ".py",
   "mimetype": "text/x-python",
   "name": "python",
   "nbconvert_exporter": "python",
   "pygments_lexer": "ipython3",
   "version": "3.8.8"
  }
 },
 "nbformat": 4,
 "nbformat_minor": 5
}
