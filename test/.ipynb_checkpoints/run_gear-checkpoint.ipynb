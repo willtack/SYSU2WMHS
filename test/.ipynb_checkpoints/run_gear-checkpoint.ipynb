{
 "cells": [
  {
   "cell_type": "code",
   "execution_count": 3,
   "id": "7b8613ec-debc-4059-91ae-03455543a781",
   "metadata": {},
   "outputs": [
    {
     "data": {
      "text/plain": [
       "'2021-9-20_16:21'"
      ]
     },
     "execution_count": 3,
     "metadata": {},
     "output_type": "execute_result"
    }
   ],
   "source": [
    "import flywheel\n",
    "import datetime\n",
    "\n",
    "fw = flywheel.Client()\n",
    "project_id = '6009d38842d76c8da2cca869'\n",
    "gear = fw.lookup('gears/wmhssysu2debug')\n",
    "date = datetime.datetime.now()\n",
    "date_str = \"{}-{}-{}_{}:{}\".format(date.year, date.month, date.day, date.hour, date.minute)\n",
    "date_str"
   ]
  },
  {
   "cell_type": "code",
   "execution_count": 4,
   "id": "ce619c83-fa52-4f27-b728-31b49b0ded61",
   "metadata": {},
   "outputs": [
    {
     "data": {
      "text/plain": [
       "20"
      ]
     },
     "execution_count": 4,
     "metadata": {},
     "output_type": "execute_result"
    }
   ],
   "source": [
    "# there are some older sessions in this project, but we want the 20 we just uploaded (conveniently, all the names begin with 20)\n",
    "sessions = [fw.get_session(x.id) for x in fw.get_project_sessions(project_id) if x.label.startswith('20')]\n",
    "len(sessions)"
   ]
  },
  {
   "cell_type": "code",
   "execution_count": 5,
   "id": "f35fab87-67f6-4d6e-9cf1-d0cbc43c7b49",
   "metadata": {},
   "outputs": [
    {
     "ename": "NameError",
     "evalue": "name 'flair_img' is not defined",
     "output_type": "error",
     "traceback": [
      "\u001b[0;31m---------------------------------------------------------------------------\u001b[0m",
      "\u001b[0;31mNameError\u001b[0m                                 Traceback (most recent call last)",
      "\u001b[0;32m<ipython-input-5-78544d12e425>\u001b[0m in \u001b[0;36m<module>\u001b[0;34m\u001b[0m\n\u001b[1;32m     12\u001b[0m \u001b[0;34m\u001b[0m\u001b[0m\n\u001b[1;32m     13\u001b[0m     \u001b[0;31m# Run the gear with the normal FLAIR\u001b[0m\u001b[0;34m\u001b[0m\u001b[0;34m\u001b[0m\u001b[0;34m\u001b[0m\u001b[0m\n\u001b[0;32m---> 14\u001b[0;31m     \u001b[0minputs\u001b[0m \u001b[0;34m=\u001b[0m \u001b[0;34m{\u001b[0m\u001b[0;34m'FLAIR'\u001b[0m\u001b[0;34m:\u001b[0m \u001b[0mflair_img\u001b[0m\u001b[0;34m,\u001b[0m \u001b[0;34m'T1'\u001b[0m\u001b[0;34m:\u001b[0m \u001b[0mt1_img\u001b[0m\u001b[0;34m}\u001b[0m\u001b[0;34m\u001b[0m\u001b[0;34m\u001b[0m\u001b[0m\n\u001b[0m\u001b[1;32m     15\u001b[0m     \u001b[0mlabel\u001b[0m \u001b[0;34m=\u001b[0m \u001b[0;34m'sysu2_{}_test_WT'\u001b[0m\u001b[0;34m.\u001b[0m\u001b[0mformat\u001b[0m\u001b[0;34m(\u001b[0m\u001b[0mdate_str\u001b[0m\u001b[0;34m)\u001b[0m\u001b[0;34m\u001b[0m\u001b[0;34m\u001b[0m\u001b[0m\n\u001b[1;32m     16\u001b[0m     \u001b[0manalysis_id\u001b[0m \u001b[0;34m=\u001b[0m \u001b[0mgear\u001b[0m\u001b[0;34m.\u001b[0m\u001b[0mrun\u001b[0m\u001b[0;34m(\u001b[0m\u001b[0manalysis_label\u001b[0m\u001b[0;34m=\u001b[0m\u001b[0mlabel\u001b[0m\u001b[0;34m,\u001b[0m \u001b[0mconfig\u001b[0m\u001b[0;34m=\u001b[0m\u001b[0mconfig\u001b[0m\u001b[0;34m,\u001b[0m \u001b[0minputs\u001b[0m\u001b[0;34m=\u001b[0m\u001b[0minputs\u001b[0m\u001b[0;34m,\u001b[0m \u001b[0mdestination\u001b[0m\u001b[0;34m=\u001b[0m\u001b[0msession\u001b[0m\u001b[0;34m)\u001b[0m\u001b[0;34m\u001b[0m\u001b[0;34m\u001b[0m\u001b[0m\n",
      "\u001b[0;31mNameError\u001b[0m: name 'flair_img' is not defined"
     ]
    }
   ],
   "source": [
    "for ses in sessions:\n",
    "    \n",
    "    t1_img = None\n",
    "    flair_img = None\n",
    "    flair_10x_img = None\n",
    "    \n",
    "    for acq in ses.acquisitions():\n",
    "        for f in acq.files:\n",
    "            if 'reorient_T1w' in f:\n",
    "                t1_img = f\n",
    "            elif 'reorient_flair' in f:\n",
    "                flair_img = f\n",
    "            elif 'reorient_10_flair' in f:\n",
    "                flair_10x_img = f\n",
    "            else:\n",
    "                continue\n",
    "        \n",
    "    # Run the gear with the normal FLAIR\n",
    "    inputs = {'FLAIR': flair_img, 'T1': t1_img}\n",
    "    label = 'sysu2_{}_test_WT'.format(date_str)\n",
    "    analysis_id = gear.run(analysis_label=label, config=config, inputs=inputs, destination=session)\n",
    "    \n",
    "    # Run the gear with the 10x FLAIR\n",
    "    inputs = {'FLAIR': flair_10x_img, 'T1': t1_img}\n",
    "    label = 'sysu2_{}_10x_test_WT'.format(date_str)\n",
    "    analysis_id = gear.run(analysis_label=label, config=config, inputs=inputs, destination=session)\n"
   ]
  },
  {
   "cell_type": "code",
   "execution_count": null,
   "id": "bd805a56-c496-4242-897d-b66e05db62ca",
   "metadata": {},
   "outputs": [],
   "source": []
  }
 ],
 "metadata": {
  "kernelspec": {
   "display_name": "Python 3",
   "language": "python",
   "name": "python3"
  },
  "language_info": {
   "codemirror_mode": {
    "name": "ipython",
    "version": 3
   },
   "file_extension": ".py",
   "mimetype": "text/x-python",
   "name": "python",
   "nbconvert_exporter": "python",
   "pygments_lexer": "ipython3",
   "version": "3.9.4"
  }
 },
 "nbformat": 4,
 "nbformat_minor": 5
}
